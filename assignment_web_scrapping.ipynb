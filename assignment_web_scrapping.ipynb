{
 "cells": [
  {
   "cell_type": "code",
   "execution_count": null,
   "id": "ba745f7b-3c8c-4789-a665-8857442e77a8",
   "metadata": {},
   "outputs": [],
   "source": [
    "Q1. What is Web Scraping? Why is it Used? Give three areas where Web Scraping is used to get data."
   ]
  },
  {
   "cell_type": "code",
   "execution_count": null,
   "id": "b97d99cc-b726-488a-9a33-6502719583a4",
   "metadata": {},
   "outputs": [],
   "source": [
    "web scrapping:\n",
    "    Web scraping is the process of automatically extracting information from websites.\n",
    "    It involves using a program or script to retrieve data from web pages, \n",
    "    typically in the form of HTML or other structured data formats. \n",
    "    Web scraping enables the collection of data from websites without manual intervention, \n",
    "    allowing for large-scale data extraction and automation of repetitive tasks.\n",
    "    \n",
    "    Web scraping is used for various purposes, including:\n",
    "    \n",
    "    1. Data Collection and Analysis: \n",
    "        Businesses and researchers often use web scraping to gather large amounts of data from websites for analysis.\n",
    "        \n",
    "    2. Competitive Analysis:\n",
    "        Companies may use web scraping to monitor their competitors websites and gather information about their products, pricing, promotions, and strategies. \n",
    "        \n",
    "    3. Research and Monitoring:\n",
    "        Researchers may use web scraping to gather data for academic purposes, such as tracking social media trends,\n",
    "        monitoring public sentiment, or collecting data for scientific studies.\n",
    "        \n",
    "    4. Weather Data: \n",
    "        Weather forecasting services often use web scraping to collect data from various weather websites,\n",
    "        such as temperature, humidity, wind speed, and more. This data is crucial for accurate weather predictions.    \n",
    "        \n",
    "        "
   ]
  },
  {
   "cell_type": "code",
   "execution_count": null,
   "id": "43bdf51a-1ad5-4e3c-927d-b66752c3e39d",
   "metadata": {},
   "outputs": [],
   "source": [
    "Q2. What are the different methods used for Web Scraping?"
   ]
  },
  {
   "cell_type": "code",
   "execution_count": null,
   "id": "fb1b3291-0b07-4b74-a87f-0b925ccdd54d",
   "metadata": {},
   "outputs": [],
   "source": [
    "1. Manual Copy-Pasting: \n",
    "    This basic method involves manually copying and pasting data from web pages into a local document or spreadsheet.\n",
    "    While simple, its not suitable for large-scale or automated scraping tasks.\n",
    "\n",
    "2. Regular Expressions (Regex):\n",
    "    Regular expressions can be used to match and extract specific patterns from HTML or text content.\n",
    "    However, this method can be complex and error-prone when dealing with complex HTML structures.\n",
    "\n",
    "3. DOM Parsing (HTML Parsing):\n",
    "    Parsing the Document Object Model (DOM) of a webpage involves using libraries like BeautifulSoup (Python),\n",
    "    jsoup (Java), or cheerio (Node.js) to navigate and extract data from the HTML structure.\n",
    "    This method provides better control over navigating through the webpage's structure."
   ]
  },
  {
   "cell_type": "code",
   "execution_count": null,
   "id": "73982e3f-3a03-4301-8dbf-b0a801ed5fcb",
   "metadata": {},
   "outputs": [],
   "source": [
    "Q3. What is Beautiful Soup? Why is it used?"
   ]
  },
  {
   "cell_type": "code",
   "execution_count": null,
   "id": "67889771-d190-4a62-a818-d47c97448867",
   "metadata": {},
   "outputs": [],
   "source": [
    "Beautiful Soup is a Python library that is widely used for web scraping and parsing HTML and XML documents.\n",
    "It provides a convenient way to navigate and manipulate the components of a webpages Document Object Model (DOM).\n",
    "Beautiful Soup is particularly helpful when you need to extract specific data from a webpage, whether its for analysis, data collection, or other purposes.\n",
    "\n",
    "Here's why Beautiful Soup is commonly used:\n",
    "\n",
    "HTML Parsing and Navigation: Beautiful Soup allows you to parse and navigate HTML documents easily. It transforms the raw HTML into a hierarchical structure of Python objects, which you can navigate and manipulate programmatically.\n",
    "\n",
    "Data Extraction: With Beautiful Soup, you can search for and extract specific elements, attributes, and text content from HTML documents. This makes it simpler to retrieve the data you're interested in from complex web pages.\n",
    "\n",
    "Tag Matching and Searching: Beautiful Soup provides methods for searching and filtering HTML elements based on tags, attributes, and other criteria. This is particularly useful when you want to extract data from specific sections of a webpage.\n",
    "\n",
    "Beautiful Soup is a Python library that is widely used for web scraping and parsing HTML and XML documents.\n",
    "It provides a convenient way to navigate and manipulate the components of a webpages Document Object Model (DOM).\n",
    "Beautiful Soup is particularly helpful when you need to extract specific data from a webpage, whether its for analysis, data collection, or other purposes.\n",
    "​\n",
    "Heres why Beautiful Soup is commonly used:\n",
    "​\n",
    "HTML Parsing and Navigation:\n",
    "    Beautiful Soup allows you to parse and navigate HTML documents easily. \n",
    "    It transforms the raw HTML into a hierarchical structure of Python objects, which you can navigate and manipulate programmatically.\n",
    "​\n",
    "Data Extraction: \n",
    "    With Beautiful Soup, you can search for and extract specific elements, attributes, and text content from HTML documents.\n",
    "    This makes it simpler to retrieve the data you're interested in from complex web pages.\n",
    "​\n",
    "Tag Matching and Searching:\n",
    "    Beautiful Soup provides methods for searching and filtering HTML elements based on tags, attributes, and other criteria.\n",
    "    This is particularly useful when you want to extract data from specific sections of a webpage.\n",
    "​\n",
    "Tree Traversal:\n",
    "    You can traverse the HTML tree using Beautiful Soups methods, allowing you to move up, down, and sideways through the document.\n",
    "    This is essential for navigating nested structures and extracting data from different levels."
   ]
  },
  {
   "cell_type": "code",
   "execution_count": null,
   "id": "e8914e62-5985-4577-976b-555890f2bcc0",
   "metadata": {},
   "outputs": [],
   "source": [
    "Q4. Why is flask used in this Web Scraping project?"
   ]
  },
  {
   "cell_type": "code",
   "execution_count": null,
   "id": "610fa70f-ae9b-4d0f-bd89-ddb17eda6b32",
   "metadata": {},
   "outputs": [],
   "source": []
  }
 ],
 "metadata": {
  "kernelspec": {
   "display_name": "Python 3 (ipykernel)",
   "language": "python",
   "name": "python3"
  },
  "language_info": {
   "codemirror_mode": {
    "name": "ipython",
    "version": 3
   },
   "file_extension": ".py",
   "mimetype": "text/x-python",
   "name": "python",
   "nbconvert_exporter": "python",
   "pygments_lexer": "ipython3",
   "version": "3.10.8"
  }
 },
 "nbformat": 4,
 "nbformat_minor": 5
}
